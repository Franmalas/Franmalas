{
  "nbformat": 4,
  "nbformat_minor": 0,
  "metadata": {
    "colab": {
      "provenance": [],
      "mount_file_id": "1VsRwzQMzpzlIwjzIXQ2Ehg5sCygys9FH",
      "authorship_tag": "ABX9TyMMkMySm8FSblv4ViOEUqNc",
      "include_colab_link": true
    },
    "kernelspec": {
      "name": "python3",
      "display_name": "Python 3"
    },
    "language_info": {
      "name": "python"
    }
  },
  "cells": [
    {
      "cell_type": "markdown",
      "metadata": {
        "id": "view-in-github",
        "colab_type": "text"
      },
      "source": [
        "<a href=\"https://colab.research.google.com/github/Franmalas/Franmalas.github.io/blob/master/Proyecto_Billetera_Digital.ipynb\" target=\"_parent\"><img src=\"https://colab.research.google.com/assets/colab-badge.svg\" alt=\"Open In Colab\"/></a>"
      ]
    },
    {
      "cell_type": "code",
      "execution_count": 1,
      "metadata": {
        "id": "9hR_jpljYjLC"
      },
      "outputs": [],
      "source": [
        "import pandas as pd\n",
        "import numpy as np\n",
        "import seaborn as sns\n",
        "import scipy.stats as st\n",
        "from scipy.stats import f_oneway\n",
        "from scipy.stats import ttest_ind"
      ]
    },
    {
      "cell_type": "code",
      "source": [
        "from google.colab import drive\n",
        "drive.mount('/content/drive')"
      ],
      "metadata": {
        "colab": {
          "base_uri": "https://localhost:8080/"
        },
        "id": "Em9rK4r8FWrL",
        "outputId": "3789cdbd-486c-4abd-80be-f92c99662d15"
      },
      "execution_count": 2,
      "outputs": [
        {
          "output_type": "stream",
          "name": "stdout",
          "text": [
            "Drive already mounted at /content/drive; to attempt to forcibly remount, call drive.mount(\"/content/drive\", force_remount=True).\n"
          ]
        }
      ]
    },
    {
      "cell_type": "markdown",
      "source": [
        "# Nueva sección"
      ],
      "metadata": {
        "id": "Epn1XEjrZcPf"
      }
    },
    {
      "cell_type": "code",
      "source": [
        "url = '/content/drive/MyDrive/Colab Notebooks/ESTADISTICA INFERENCIAL DATA SCIENCE/PROYECTO_ESTADISTICA_APLICACION/CE142_Trabajo de aplicación - Base de datos.csv'\n",
        "data_base = pd.read_csv(url)\n",
        "data_base.head()"
      ],
      "metadata": {
        "colab": {
          "base_uri": "https://localhost:8080/",
          "height": 206
        },
        "id": "LDKiz4ojZuK3",
        "outputId": "c68b1eaa-35a1-4ab5-fd30-227094c63578"
      },
      "execution_count": 3,
      "outputs": [
        {
          "output_type": "execute_result",
          "data": {
            "text/plain": [
              "   ID  Ciudad  Operación  Monto_Ult  Tipo_Negocio  Sexo  Edad  Método_Carga  \\\n",
              "0   1       2          2      191.2             2     2  27.7             1   \n",
              "1   2       3          2      222.6             1     1  43.2             2   \n",
              "2   3       1          3      225.9             6     2  43.2             1   \n",
              "3   4       1          1      198.2             1     1  28.2             2   \n",
              "4   5       3          3      201.9             4     1  28.2             3   \n",
              "\n",
              "   Nume_Operac_Sem  Monto_Octubre  Monto_Noviembre  Tiempo_Sem  Nivel_Satis  \n",
              "0                6         2286.1           1642.4        28.6            4  \n",
              "1               38         2506.5           1847.9        60.6            4  \n",
              "2               40         2557.8           1904.0        65.3            5  \n",
              "3               13         2277.5           1637.3        26.7            2  \n",
              "4               11         2202.3           1566.7        18.3            4  "
            ],
            "text/html": [
              "\n",
              "  <div id=\"df-af1390dc-764c-4e59-961e-f9c5e23a8add\">\n",
              "    <div class=\"colab-df-container\">\n",
              "      <div>\n",
              "<style scoped>\n",
              "    .dataframe tbody tr th:only-of-type {\n",
              "        vertical-align: middle;\n",
              "    }\n",
              "\n",
              "    .dataframe tbody tr th {\n",
              "        vertical-align: top;\n",
              "    }\n",
              "\n",
              "    .dataframe thead th {\n",
              "        text-align: right;\n",
              "    }\n",
              "</style>\n",
              "<table border=\"1\" class=\"dataframe\">\n",
              "  <thead>\n",
              "    <tr style=\"text-align: right;\">\n",
              "      <th></th>\n",
              "      <th>ID</th>\n",
              "      <th>Ciudad</th>\n",
              "      <th>Operación</th>\n",
              "      <th>Monto_Ult</th>\n",
              "      <th>Tipo_Negocio</th>\n",
              "      <th>Sexo</th>\n",
              "      <th>Edad</th>\n",
              "      <th>Método_Carga</th>\n",
              "      <th>Nume_Operac_Sem</th>\n",
              "      <th>Monto_Octubre</th>\n",
              "      <th>Monto_Noviembre</th>\n",
              "      <th>Tiempo_Sem</th>\n",
              "      <th>Nivel_Satis</th>\n",
              "    </tr>\n",
              "  </thead>\n",
              "  <tbody>\n",
              "    <tr>\n",
              "      <th>0</th>\n",
              "      <td>1</td>\n",
              "      <td>2</td>\n",
              "      <td>2</td>\n",
              "      <td>191.2</td>\n",
              "      <td>2</td>\n",
              "      <td>2</td>\n",
              "      <td>27.7</td>\n",
              "      <td>1</td>\n",
              "      <td>6</td>\n",
              "      <td>2286.1</td>\n",
              "      <td>1642.4</td>\n",
              "      <td>28.6</td>\n",
              "      <td>4</td>\n",
              "    </tr>\n",
              "    <tr>\n",
              "      <th>1</th>\n",
              "      <td>2</td>\n",
              "      <td>3</td>\n",
              "      <td>2</td>\n",
              "      <td>222.6</td>\n",
              "      <td>1</td>\n",
              "      <td>1</td>\n",
              "      <td>43.2</td>\n",
              "      <td>2</td>\n",
              "      <td>38</td>\n",
              "      <td>2506.5</td>\n",
              "      <td>1847.9</td>\n",
              "      <td>60.6</td>\n",
              "      <td>4</td>\n",
              "    </tr>\n",
              "    <tr>\n",
              "      <th>2</th>\n",
              "      <td>3</td>\n",
              "      <td>1</td>\n",
              "      <td>3</td>\n",
              "      <td>225.9</td>\n",
              "      <td>6</td>\n",
              "      <td>2</td>\n",
              "      <td>43.2</td>\n",
              "      <td>1</td>\n",
              "      <td>40</td>\n",
              "      <td>2557.8</td>\n",
              "      <td>1904.0</td>\n",
              "      <td>65.3</td>\n",
              "      <td>5</td>\n",
              "    </tr>\n",
              "    <tr>\n",
              "      <th>3</th>\n",
              "      <td>4</td>\n",
              "      <td>1</td>\n",
              "      <td>1</td>\n",
              "      <td>198.2</td>\n",
              "      <td>1</td>\n",
              "      <td>1</td>\n",
              "      <td>28.2</td>\n",
              "      <td>2</td>\n",
              "      <td>13</td>\n",
              "      <td>2277.5</td>\n",
              "      <td>1637.3</td>\n",
              "      <td>26.7</td>\n",
              "      <td>2</td>\n",
              "    </tr>\n",
              "    <tr>\n",
              "      <th>4</th>\n",
              "      <td>5</td>\n",
              "      <td>3</td>\n",
              "      <td>3</td>\n",
              "      <td>201.9</td>\n",
              "      <td>4</td>\n",
              "      <td>1</td>\n",
              "      <td>28.2</td>\n",
              "      <td>3</td>\n",
              "      <td>11</td>\n",
              "      <td>2202.3</td>\n",
              "      <td>1566.7</td>\n",
              "      <td>18.3</td>\n",
              "      <td>4</td>\n",
              "    </tr>\n",
              "  </tbody>\n",
              "</table>\n",
              "</div>\n",
              "      <button class=\"colab-df-convert\" onclick=\"convertToInteractive('df-af1390dc-764c-4e59-961e-f9c5e23a8add')\"\n",
              "              title=\"Convert this dataframe to an interactive table.\"\n",
              "              style=\"display:none;\">\n",
              "        \n",
              "  <svg xmlns=\"http://www.w3.org/2000/svg\" height=\"24px\"viewBox=\"0 0 24 24\"\n",
              "       width=\"24px\">\n",
              "    <path d=\"M0 0h24v24H0V0z\" fill=\"none\"/>\n",
              "    <path d=\"M18.56 5.44l.94 2.06.94-2.06 2.06-.94-2.06-.94-.94-2.06-.94 2.06-2.06.94zm-11 1L8.5 8.5l.94-2.06 2.06-.94-2.06-.94L8.5 2.5l-.94 2.06-2.06.94zm10 10l.94 2.06.94-2.06 2.06-.94-2.06-.94-.94-2.06-.94 2.06-2.06.94z\"/><path d=\"M17.41 7.96l-1.37-1.37c-.4-.4-.92-.59-1.43-.59-.52 0-1.04.2-1.43.59L10.3 9.45l-7.72 7.72c-.78.78-.78 2.05 0 2.83L4 21.41c.39.39.9.59 1.41.59.51 0 1.02-.2 1.41-.59l7.78-7.78 2.81-2.81c.8-.78.8-2.07 0-2.86zM5.41 20L4 18.59l7.72-7.72 1.47 1.35L5.41 20z\"/>\n",
              "  </svg>\n",
              "      </button>\n",
              "      \n",
              "  <style>\n",
              "    .colab-df-container {\n",
              "      display:flex;\n",
              "      flex-wrap:wrap;\n",
              "      gap: 12px;\n",
              "    }\n",
              "\n",
              "    .colab-df-convert {\n",
              "      background-color: #E8F0FE;\n",
              "      border: none;\n",
              "      border-radius: 50%;\n",
              "      cursor: pointer;\n",
              "      display: none;\n",
              "      fill: #1967D2;\n",
              "      height: 32px;\n",
              "      padding: 0 0 0 0;\n",
              "      width: 32px;\n",
              "    }\n",
              "\n",
              "    .colab-df-convert:hover {\n",
              "      background-color: #E2EBFA;\n",
              "      box-shadow: 0px 1px 2px rgba(60, 64, 67, 0.3), 0px 1px 3px 1px rgba(60, 64, 67, 0.15);\n",
              "      fill: #174EA6;\n",
              "    }\n",
              "\n",
              "    [theme=dark] .colab-df-convert {\n",
              "      background-color: #3B4455;\n",
              "      fill: #D2E3FC;\n",
              "    }\n",
              "\n",
              "    [theme=dark] .colab-df-convert:hover {\n",
              "      background-color: #434B5C;\n",
              "      box-shadow: 0px 1px 3px 1px rgba(0, 0, 0, 0.15);\n",
              "      filter: drop-shadow(0px 1px 2px rgba(0, 0, 0, 0.3));\n",
              "      fill: #FFFFFF;\n",
              "    }\n",
              "  </style>\n",
              "\n",
              "      <script>\n",
              "        const buttonEl =\n",
              "          document.querySelector('#df-af1390dc-764c-4e59-961e-f9c5e23a8add button.colab-df-convert');\n",
              "        buttonEl.style.display =\n",
              "          google.colab.kernel.accessAllowed ? 'block' : 'none';\n",
              "\n",
              "        async function convertToInteractive(key) {\n",
              "          const element = document.querySelector('#df-af1390dc-764c-4e59-961e-f9c5e23a8add');\n",
              "          const dataTable =\n",
              "            await google.colab.kernel.invokeFunction('convertToInteractive',\n",
              "                                                     [key], {});\n",
              "          if (!dataTable) return;\n",
              "\n",
              "          const docLinkHtml = 'Like what you see? Visit the ' +\n",
              "            '<a target=\"_blank\" href=https://colab.research.google.com/notebooks/data_table.ipynb>data table notebook</a>'\n",
              "            + ' to learn more about interactive tables.';\n",
              "          element.innerHTML = '';\n",
              "          dataTable['output_type'] = 'display_data';\n",
              "          await google.colab.output.renderOutput(dataTable, element);\n",
              "          const docLink = document.createElement('div');\n",
              "          docLink.innerHTML = docLinkHtml;\n",
              "          element.appendChild(docLink);\n",
              "        }\n",
              "      </script>\n",
              "    </div>\n",
              "  </div>\n",
              "  "
            ]
          },
          "metadata": {},
          "execution_count": 3
        }
      ]
    },
    {
      "cell_type": "code",
      "source": [
        "## Replacing categorical values\n",
        "data_base['Ciudad'] = data_base['Ciudad'].replace({1:'Lima', 2:'Piura', 3:'Cusco'})\n",
        "data_base['Operación'] = data_base['Operación'].replace({1:'Pagos con QR', 2:'Compras Online',3:'Envio de dinero a contactos'})\n",
        "data_base['Sexo'] = data_base['Sexo'].replace({1:'Masculino',2:'Femenino'})\n",
        "data_base['Tipo_Negocio'] = data_base['Tipo_Negocio'].replace({1:'Supermercado',2:'Tienda por Departamento',3:'Bodega o negocio pequeño',4:'Restaurante',5:'Taxi',6:'Otros'})\n",
        "data_base['Método_Carga'] = data_base['Método_Carga'].replace({1:'Transferencia Bancaria',2:'Deposito de Efectivo en agente', 3:'Recepcion de dinero de otro usuario'}) "
      ],
      "metadata": {
        "id": "2kysIvdCJaoE"
      },
      "execution_count": 4,
      "outputs": []
    },
    {
      "cell_type": "code",
      "source": [
        "data_base.head()"
      ],
      "metadata": {
        "colab": {
          "base_uri": "https://localhost:8080/",
          "height": 206
        },
        "id": "Ti6tfSSJLBbz",
        "outputId": "33a262b8-e5cf-4179-f8fd-1603343b6808"
      },
      "execution_count": 12,
      "outputs": [
        {
          "output_type": "execute_result",
          "data": {
            "text/plain": [
              "   ID Ciudad                    Operación  Monto_Ult             Tipo_Negocio  \\\n",
              "0   1  Piura               Compras Online      191.2  Tienda por Departamento   \n",
              "1   2  Cusco               Compras Online      222.6             Supermercado   \n",
              "2   3   Lima  Envio de dinero a contactos      225.9                    Otros   \n",
              "3   4   Lima                 Pagos con QR      198.2             Supermercado   \n",
              "4   5  Cusco  Envio de dinero a contactos      201.9              Restaurante   \n",
              "\n",
              "        Sexo  Edad                         Método_Carga  Nume_Operac_Sem  \\\n",
              "0   Femenino  27.7               Transferencia Bancaria                6   \n",
              "1  Masculino  43.2       Deposito de Efectivo en agente               38   \n",
              "2   Femenino  43.2               Transferencia Bancaria               40   \n",
              "3  Masculino  28.2       Deposito de Efectivo en agente               13   \n",
              "4  Masculino  28.2  Recepcion de dinero de otro usuario               11   \n",
              "\n",
              "   Monto_Octubre  Monto_Noviembre  Tiempo_Sem  Nivel_Satis  \n",
              "0         2286.1           1642.4        28.6            4  \n",
              "1         2506.5           1847.9        60.6            4  \n",
              "2         2557.8           1904.0        65.3            5  \n",
              "3         2277.5           1637.3        26.7            2  \n",
              "4         2202.3           1566.7        18.3            4  "
            ],
            "text/html": [
              "\n",
              "  <div id=\"df-2460afdb-7715-494c-82ca-3bce8da91fa0\">\n",
              "    <div class=\"colab-df-container\">\n",
              "      <div>\n",
              "<style scoped>\n",
              "    .dataframe tbody tr th:only-of-type {\n",
              "        vertical-align: middle;\n",
              "    }\n",
              "\n",
              "    .dataframe tbody tr th {\n",
              "        vertical-align: top;\n",
              "    }\n",
              "\n",
              "    .dataframe thead th {\n",
              "        text-align: right;\n",
              "    }\n",
              "</style>\n",
              "<table border=\"1\" class=\"dataframe\">\n",
              "  <thead>\n",
              "    <tr style=\"text-align: right;\">\n",
              "      <th></th>\n",
              "      <th>ID</th>\n",
              "      <th>Ciudad</th>\n",
              "      <th>Operación</th>\n",
              "      <th>Monto_Ult</th>\n",
              "      <th>Tipo_Negocio</th>\n",
              "      <th>Sexo</th>\n",
              "      <th>Edad</th>\n",
              "      <th>Método_Carga</th>\n",
              "      <th>Nume_Operac_Sem</th>\n",
              "      <th>Monto_Octubre</th>\n",
              "      <th>Monto_Noviembre</th>\n",
              "      <th>Tiempo_Sem</th>\n",
              "      <th>Nivel_Satis</th>\n",
              "    </tr>\n",
              "  </thead>\n",
              "  <tbody>\n",
              "    <tr>\n",
              "      <th>0</th>\n",
              "      <td>1</td>\n",
              "      <td>Piura</td>\n",
              "      <td>Compras Online</td>\n",
              "      <td>191.2</td>\n",
              "      <td>Tienda por Departamento</td>\n",
              "      <td>Femenino</td>\n",
              "      <td>27.7</td>\n",
              "      <td>Transferencia Bancaria</td>\n",
              "      <td>6</td>\n",
              "      <td>2286.1</td>\n",
              "      <td>1642.4</td>\n",
              "      <td>28.6</td>\n",
              "      <td>4</td>\n",
              "    </tr>\n",
              "    <tr>\n",
              "      <th>1</th>\n",
              "      <td>2</td>\n",
              "      <td>Cusco</td>\n",
              "      <td>Compras Online</td>\n",
              "      <td>222.6</td>\n",
              "      <td>Supermercado</td>\n",
              "      <td>Masculino</td>\n",
              "      <td>43.2</td>\n",
              "      <td>Deposito de Efectivo en agente</td>\n",
              "      <td>38</td>\n",
              "      <td>2506.5</td>\n",
              "      <td>1847.9</td>\n",
              "      <td>60.6</td>\n",
              "      <td>4</td>\n",
              "    </tr>\n",
              "    <tr>\n",
              "      <th>2</th>\n",
              "      <td>3</td>\n",
              "      <td>Lima</td>\n",
              "      <td>Envio de dinero a contactos</td>\n",
              "      <td>225.9</td>\n",
              "      <td>Otros</td>\n",
              "      <td>Femenino</td>\n",
              "      <td>43.2</td>\n",
              "      <td>Transferencia Bancaria</td>\n",
              "      <td>40</td>\n",
              "      <td>2557.8</td>\n",
              "      <td>1904.0</td>\n",
              "      <td>65.3</td>\n",
              "      <td>5</td>\n",
              "    </tr>\n",
              "    <tr>\n",
              "      <th>3</th>\n",
              "      <td>4</td>\n",
              "      <td>Lima</td>\n",
              "      <td>Pagos con QR</td>\n",
              "      <td>198.2</td>\n",
              "      <td>Supermercado</td>\n",
              "      <td>Masculino</td>\n",
              "      <td>28.2</td>\n",
              "      <td>Deposito de Efectivo en agente</td>\n",
              "      <td>13</td>\n",
              "      <td>2277.5</td>\n",
              "      <td>1637.3</td>\n",
              "      <td>26.7</td>\n",
              "      <td>2</td>\n",
              "    </tr>\n",
              "    <tr>\n",
              "      <th>4</th>\n",
              "      <td>5</td>\n",
              "      <td>Cusco</td>\n",
              "      <td>Envio de dinero a contactos</td>\n",
              "      <td>201.9</td>\n",
              "      <td>Restaurante</td>\n",
              "      <td>Masculino</td>\n",
              "      <td>28.2</td>\n",
              "      <td>Recepcion de dinero de otro usuario</td>\n",
              "      <td>11</td>\n",
              "      <td>2202.3</td>\n",
              "      <td>1566.7</td>\n",
              "      <td>18.3</td>\n",
              "      <td>4</td>\n",
              "    </tr>\n",
              "  </tbody>\n",
              "</table>\n",
              "</div>\n",
              "      <button class=\"colab-df-convert\" onclick=\"convertToInteractive('df-2460afdb-7715-494c-82ca-3bce8da91fa0')\"\n",
              "              title=\"Convert this dataframe to an interactive table.\"\n",
              "              style=\"display:none;\">\n",
              "        \n",
              "  <svg xmlns=\"http://www.w3.org/2000/svg\" height=\"24px\"viewBox=\"0 0 24 24\"\n",
              "       width=\"24px\">\n",
              "    <path d=\"M0 0h24v24H0V0z\" fill=\"none\"/>\n",
              "    <path d=\"M18.56 5.44l.94 2.06.94-2.06 2.06-.94-2.06-.94-.94-2.06-.94 2.06-2.06.94zm-11 1L8.5 8.5l.94-2.06 2.06-.94-2.06-.94L8.5 2.5l-.94 2.06-2.06.94zm10 10l.94 2.06.94-2.06 2.06-.94-2.06-.94-.94-2.06-.94 2.06-2.06.94z\"/><path d=\"M17.41 7.96l-1.37-1.37c-.4-.4-.92-.59-1.43-.59-.52 0-1.04.2-1.43.59L10.3 9.45l-7.72 7.72c-.78.78-.78 2.05 0 2.83L4 21.41c.39.39.9.59 1.41.59.51 0 1.02-.2 1.41-.59l7.78-7.78 2.81-2.81c.8-.78.8-2.07 0-2.86zM5.41 20L4 18.59l7.72-7.72 1.47 1.35L5.41 20z\"/>\n",
              "  </svg>\n",
              "      </button>\n",
              "      \n",
              "  <style>\n",
              "    .colab-df-container {\n",
              "      display:flex;\n",
              "      flex-wrap:wrap;\n",
              "      gap: 12px;\n",
              "    }\n",
              "\n",
              "    .colab-df-convert {\n",
              "      background-color: #E8F0FE;\n",
              "      border: none;\n",
              "      border-radius: 50%;\n",
              "      cursor: pointer;\n",
              "      display: none;\n",
              "      fill: #1967D2;\n",
              "      height: 32px;\n",
              "      padding: 0 0 0 0;\n",
              "      width: 32px;\n",
              "    }\n",
              "\n",
              "    .colab-df-convert:hover {\n",
              "      background-color: #E2EBFA;\n",
              "      box-shadow: 0px 1px 2px rgba(60, 64, 67, 0.3), 0px 1px 3px 1px rgba(60, 64, 67, 0.15);\n",
              "      fill: #174EA6;\n",
              "    }\n",
              "\n",
              "    [theme=dark] .colab-df-convert {\n",
              "      background-color: #3B4455;\n",
              "      fill: #D2E3FC;\n",
              "    }\n",
              "\n",
              "    [theme=dark] .colab-df-convert:hover {\n",
              "      background-color: #434B5C;\n",
              "      box-shadow: 0px 1px 3px 1px rgba(0, 0, 0, 0.15);\n",
              "      filter: drop-shadow(0px 1px 2px rgba(0, 0, 0, 0.3));\n",
              "      fill: #FFFFFF;\n",
              "    }\n",
              "  </style>\n",
              "\n",
              "      <script>\n",
              "        const buttonEl =\n",
              "          document.querySelector('#df-2460afdb-7715-494c-82ca-3bce8da91fa0 button.colab-df-convert');\n",
              "        buttonEl.style.display =\n",
              "          google.colab.kernel.accessAllowed ? 'block' : 'none';\n",
              "\n",
              "        async function convertToInteractive(key) {\n",
              "          const element = document.querySelector('#df-2460afdb-7715-494c-82ca-3bce8da91fa0');\n",
              "          const dataTable =\n",
              "            await google.colab.kernel.invokeFunction('convertToInteractive',\n",
              "                                                     [key], {});\n",
              "          if (!dataTable) return;\n",
              "\n",
              "          const docLinkHtml = 'Like what you see? Visit the ' +\n",
              "            '<a target=\"_blank\" href=https://colab.research.google.com/notebooks/data_table.ipynb>data table notebook</a>'\n",
              "            + ' to learn more about interactive tables.';\n",
              "          element.innerHTML = '';\n",
              "          dataTable['output_type'] = 'display_data';\n",
              "          await google.colab.output.renderOutput(dataTable, element);\n",
              "          const docLink = document.createElement('div');\n",
              "          docLink.innerHTML = docLinkHtml;\n",
              "          element.appendChild(docLink);\n",
              "        }\n",
              "      </script>\n",
              "    </div>\n",
              "  </div>\n",
              "  "
            ]
          },
          "metadata": {},
          "execution_count": 12
        }
      ]
    },
    {
      "cell_type": "markdown",
      "source": [
        "### Tipos de Pruebas ###"
      ],
      "metadata": {
        "id": "xaacmJFAF5Cp"
      }
    },
    {
      "cell_type": "markdown",
      "source": [
        "* Distribucion t de Student"
      ],
      "metadata": {
        "id": "Q_lR8WcoF-UY"
      }
    },
    {
      "cell_type": "markdown",
      "source": [
        "$$\n",
        "SE = \\frac{\\sigma}{\\sqrt{N}}\n",
        "$$"
      ],
      "metadata": {
        "id": "ZdYb6StJb6QA"
      }
    },
    {
      "cell_type": "code",
      "source": [
        "se_octubre =  data_base['Monto_Octubre'].std()/np.sqrt(len(data_base['Monto_Octubre']))\n",
        "se_noviembre =  data_base['Monto_Noviembre'].std()/np.sqrt(len(data_base['Monto_Noviembre']))"
      ],
      "metadata": {
        "id": "rfL5Ju4rF9Yb"
      },
      "execution_count": 13,
      "outputs": []
    },
    {
      "cell_type": "markdown",
      "source": [
        "$$\n",
        "SED = \\sqrt{\\frac{\\sigma_1^2}{N_1}+\\frac{\\sigma_2^2}{N_2}}\n",
        "$$"
      ],
      "metadata": {
        "id": "3UVcHRT9fI7e"
      }
    },
    {
      "cell_type": "code",
      "source": [
        "sed = np.sqrt((se_octubre**2)+(se_noviembre**2))\n",
        "sed"
      ],
      "metadata": {
        "colab": {
          "base_uri": "https://localhost:8080/"
        },
        "id": "PbJOcicAeVXv",
        "outputId": "3ce5a062-a201-43db-b1a5-4886717cb90b"
      },
      "execution_count": 14,
      "outputs": [
        {
          "output_type": "execute_result",
          "data": {
            "text/plain": [
              "11.549768255644146"
            ]
          },
          "metadata": {},
          "execution_count": 14
        }
      ]
    },
    {
      "cell_type": "markdown",
      "source": [
        "* T - Student\n",
        "$$\n",
        "t = \\frac{\\bar{x_1}-\\bar{x_2}}{SED}=\\frac{x_1-x_2}{\\sqrt{\\frac{(s_1)^2}{n_1}+\\frac{(s_2)^2}{n_2}}}\n",
        "$$"
      ],
      "metadata": {
        "id": "vL0pPEHOfzr8"
      }
    },
    {
      "cell_type": "code",
      "source": [
        "t_student = (data_base['Monto_Octubre'].mean() - data_base['Monto_Noviembre'].mean()) / sed\n",
        "t_student"
      ],
      "metadata": {
        "colab": {
          "base_uri": "https://localhost:8080/"
        },
        "id": "3O4mqxE0f7Gu",
        "outputId": "fa50dcb3-51ef-48a9-b289-9adcc703bf24"
      },
      "execution_count": 15,
      "outputs": [
        {
          "output_type": "execute_result",
          "data": {
            "text/plain": [
              "55.577781804090385"
            ]
          },
          "metadata": {},
          "execution_count": 15
        }
      ]
    },
    {
      "cell_type": "code",
      "source": [
        "p = ttest_ind(data_base['Monto_Octubre'],data_base['Monto_Noviembre'])\n",
        "p"
      ],
      "metadata": {
        "colab": {
          "base_uri": "https://localhost:8080/"
        },
        "id": "OjHSrV3FhGkk",
        "outputId": "c4b3b215-f5e9-4208-9889-4d01b59ecf13"
      },
      "execution_count": 16,
      "outputs": [
        {
          "output_type": "execute_result",
          "data": {
            "text/plain": [
              "Ttest_indResult(statistic=55.577781804090385, pvalue=1.407426529733729e-276)"
            ]
          },
          "metadata": {},
          "execution_count": 16
        }
      ]
    }
  ]
}